{
  "nbformat": 4,
  "nbformat_minor": 0,
  "metadata": {
    "colab": {
      "name": "Copy of KNNRegresi_explained",
      "provenance": [],
      "include_colab_link": true
    },
    "kernelspec": {
      "name": "python3",
      "display_name": "Python 3"
    }
  },
  "cells": [
    {
      "cell_type": "markdown",
      "metadata": {
        "id": "view-in-github",
        "colab_type": "text"
      },
      "source": [
        "<a href=\"https://colab.research.google.com/github/masagun-unughaid/masagun-unughaid/blob/main/Copy_of_KNNRegresi_explained.ipynb\" target=\"_parent\"><img src=\"https://colab.research.google.com/assets/colab-badge.svg\" alt=\"Open In Colab\"/></a>"
      ]
    },
    {
      "cell_type": "markdown",
      "metadata": {
        "id": "Ox2S4ouJb9c4"
      },
      "source": [
        "**KNN untuk permasalahan Regresi**\n",
        "\n",
        "sumber : https://www.tutorialspoint.com/machine_learning_with_python/machine_learning_with_python_knn_algorithm_finding_nearest_neighbors.htm\n",
        "\n",
        "\n",
        "\n",
        "import library"
      ]
    },
    {
      "cell_type": "code",
      "metadata": {
        "id": "6SpXK_NIcPZy"
      },
      "source": [
        "import numpy as np\n",
        "import pandas as pd"
      ],
      "execution_count": 1,
      "outputs": []
    },
    {
      "cell_type": "markdown",
      "metadata": {
        "id": "nodUUUQhcVAk"
      },
      "source": [
        "Dowload dataset \n",
        "\n"
      ]
    },
    {
      "cell_type": "code",
      "metadata": {
        "colab": {
          "base_uri": "https://localhost:8080/"
        },
        "id": "iKGgvbo-caps",
        "outputId": "85c621a9-e427-4f90-c6c2-d749a48aeea0"
      },
      "source": [
        "url = \"https://archive.ics.uci.edu/ml/machine-learning-databases/concrete/slump/slump_test.data\"\n",
        "headernames = ['id', 'label', 'time', 'petal-width', 'Class']\n",
        "data = pd.read_csv(url)\n",
        "array = data.values\n",
        "X = array[:,1:10]\n",
        "Y = array[:,10]\n",
        "data.shape\n"
      ],
      "execution_count": 2,
      "outputs": [
        {
          "output_type": "execute_result",
          "data": {
            "text/plain": [
              "(103, 11)"
            ]
          },
          "metadata": {
            "tags": []
          },
          "execution_count": 2
        }
      ]
    },
    {
      "cell_type": "markdown",
      "metadata": {
        "id": "AmeY1GhCc4I-"
      },
      "source": [
        "tamplikan data, X dan y "
      ]
    },
    {
      "cell_type": "code",
      "metadata": {
        "colab": {
          "base_uri": "https://localhost:8080/",
          "height": 159
        },
        "id": "MssTCdDGdOxr",
        "outputId": "88cc63db-2662-4330-f094-e2f965122580"
      },
      "source": [
        "data.head(3)"
      ],
      "execution_count": 3,
      "outputs": [
        {
          "output_type": "execute_result",
          "data": {
            "text/html": [
              "<div>\n",
              "<style scoped>\n",
              "    .dataframe tbody tr th:only-of-type {\n",
              "        vertical-align: middle;\n",
              "    }\n",
              "\n",
              "    .dataframe tbody tr th {\n",
              "        vertical-align: top;\n",
              "    }\n",
              "\n",
              "    .dataframe thead th {\n",
              "        text-align: right;\n",
              "    }\n",
              "</style>\n",
              "<table border=\"1\" class=\"dataframe\">\n",
              "  <thead>\n",
              "    <tr style=\"text-align: right;\">\n",
              "      <th></th>\n",
              "      <th>No</th>\n",
              "      <th>Cement</th>\n",
              "      <th>Slag</th>\n",
              "      <th>Fly ash</th>\n",
              "      <th>Water</th>\n",
              "      <th>SP</th>\n",
              "      <th>Coarse Aggr.</th>\n",
              "      <th>Fine Aggr.</th>\n",
              "      <th>SLUMP(cm)</th>\n",
              "      <th>FLOW(cm)</th>\n",
              "      <th>Compressive Strength (28-day)(Mpa)</th>\n",
              "    </tr>\n",
              "  </thead>\n",
              "  <tbody>\n",
              "    <tr>\n",
              "      <th>0</th>\n",
              "      <td>1</td>\n",
              "      <td>273.0</td>\n",
              "      <td>82.0</td>\n",
              "      <td>105.0</td>\n",
              "      <td>210.0</td>\n",
              "      <td>9.0</td>\n",
              "      <td>904.0</td>\n",
              "      <td>680.0</td>\n",
              "      <td>23.0</td>\n",
              "      <td>62.0</td>\n",
              "      <td>34.99</td>\n",
              "    </tr>\n",
              "    <tr>\n",
              "      <th>1</th>\n",
              "      <td>2</td>\n",
              "      <td>163.0</td>\n",
              "      <td>149.0</td>\n",
              "      <td>191.0</td>\n",
              "      <td>180.0</td>\n",
              "      <td>12.0</td>\n",
              "      <td>843.0</td>\n",
              "      <td>746.0</td>\n",
              "      <td>0.0</td>\n",
              "      <td>20.0</td>\n",
              "      <td>41.14</td>\n",
              "    </tr>\n",
              "    <tr>\n",
              "      <th>2</th>\n",
              "      <td>3</td>\n",
              "      <td>162.0</td>\n",
              "      <td>148.0</td>\n",
              "      <td>191.0</td>\n",
              "      <td>179.0</td>\n",
              "      <td>16.0</td>\n",
              "      <td>840.0</td>\n",
              "      <td>743.0</td>\n",
              "      <td>1.0</td>\n",
              "      <td>20.0</td>\n",
              "      <td>41.81</td>\n",
              "    </tr>\n",
              "  </tbody>\n",
              "</table>\n",
              "</div>"
            ],
            "text/plain": [
              "   No  Cement   Slag  ...  SLUMP(cm)  FLOW(cm)  Compressive Strength (28-day)(Mpa)\n",
              "0   1   273.0   82.0  ...       23.0      62.0                               34.99\n",
              "1   2   163.0  149.0  ...        0.0      20.0                               41.14\n",
              "2   3   162.0  148.0  ...        1.0      20.0                               41.81\n",
              "\n",
              "[3 rows x 11 columns]"
            ]
          },
          "metadata": {
            "tags": []
          },
          "execution_count": 3
        }
      ]
    },
    {
      "cell_type": "code",
      "metadata": {
        "colab": {
          "base_uri": "https://localhost:8080/"
        },
        "id": "jJmJDF8qc7zJ",
        "outputId": "4a272d7d-da49-4695-96bb-a9e981be3be6"
      },
      "source": [
        "X[0:9,:]"
      ],
      "execution_count": 4,
      "outputs": [
        {
          "output_type": "execute_result",
          "data": {
            "text/plain": [
              "array([[273. ,  82. , 105. , 210. ,   9. , 904. , 680. ,  23. ,  62. ],\n",
              "       [163. , 149. , 191. , 180. ,  12. , 843. , 746. ,   0. ,  20. ],\n",
              "       [162. , 148. , 191. , 179. ,  16. , 840. , 743. ,   1. ,  20. ],\n",
              "       [162. , 148. , 190. , 179. ,  19. , 838. , 741. ,   3. ,  21.5],\n",
              "       [154. , 112. , 144. , 220. ,  10. , 923. , 658. ,  20. ,  64. ],\n",
              "       [147. ,  89. , 115. , 202. ,   9. , 860. , 829. ,  23. ,  55. ],\n",
              "       [152. , 139. , 178. , 168. ,  18. , 944. , 695. ,   0. ,  20. ],\n",
              "       [145. ,   0. , 227. , 240. ,   6. , 750. , 853. ,  14.5,  58.5],\n",
              "       [152. ,   0. , 237. , 204. ,   6. , 785. , 892. ,  15.5,  51. ]])"
            ]
          },
          "metadata": {
            "tags": []
          },
          "execution_count": 4
        }
      ]
    },
    {
      "cell_type": "code",
      "metadata": {
        "colab": {
          "base_uri": "https://localhost:8080/"
        },
        "id": "09-6852IdDDP",
        "outputId": "9b7c855c-e1e1-4347-d1f8-12e0e9225038"
      },
      "source": [
        "Y[0:3]"
      ],
      "execution_count": 5,
      "outputs": [
        {
          "output_type": "execute_result",
          "data": {
            "text/plain": [
              "array([34.99, 41.14, 41.81])"
            ]
          },
          "metadata": {
            "tags": []
          },
          "execution_count": 5
        }
      ]
    },
    {
      "cell_type": "markdown",
      "metadata": {
        "id": "0EsSVrJNoLMJ"
      },
      "source": [
        "  Bagi data menjadi 60 % training dan 40% testing \n",
        "  "
      ]
    },
    {
      "cell_type": "code",
      "metadata": {
        "id": "2N355viZoR-T"
      },
      "source": [
        "from sklearn.model_selection import train_test_split\n",
        "X_train, X_test, y_train, y_test = train_test_split(X, Y, test_size = 0.40)"
      ],
      "execution_count": 6,
      "outputs": []
    },
    {
      "cell_type": "markdown",
      "metadata": {
        "id": "HcGDNXTaduJI"
      },
      "source": [
        "Misalkan y = yang harus diperkirakan adalah \"Compressive Strength (28-day)(Mpa)\" \n",
        "\n",
        "masukan X ADALAH KOLOM : Cement,Slag,Fly ash,Water,SP,Coarse Aggr.,Fine Aggr.,SLUMP(cm),FLOW(cm)\n",
        "\n",
        "Kita akan menggunakan KNN untuk melakukan regresi dengan mengimport library KNN regresi sebagai berikut \n"
      ]
    },
    {
      "cell_type": "code",
      "metadata": {
        "colab": {
          "base_uri": "https://localhost:8080/"
        },
        "id": "PCnZPOn4eFyF",
        "outputId": "55447aed-849c-4954-a183-168286826061"
      },
      "source": [
        "from sklearn.neighbors import KNeighborsRegressor\n",
        "knnr = KNeighborsRegressor(n_neighbors = 10)\n",
        "knnr.fit(X_train, y_train)"
      ],
      "execution_count": 7,
      "outputs": [
        {
          "output_type": "execute_result",
          "data": {
            "text/plain": [
              "KNeighborsRegressor(algorithm='auto', leaf_size=30, metric='minkowski',\n",
              "                    metric_params=None, n_jobs=None, n_neighbors=10, p=2,\n",
              "                    weights='uniform')"
            ]
          },
          "metadata": {
            "tags": []
          },
          "execution_count": 7
        }
      ]
    },
    {
      "cell_type": "markdown",
      "metadata": {
        "id": "Q4yRqfsueSsY"
      },
      "source": [
        "Menampilkan error y hasil prediksi \n",
        "\n",
        "dan y test "
      ]
    },
    {
      "cell_type": "code",
      "metadata": {
        "colab": {
          "base_uri": "https://localhost:8080/"
        },
        "id": "A4IC1U66egUH",
        "outputId": "2464e771-1bd8-4d99-d833-57bab2992c7d"
      },
      "source": [
        "y_predict = knnr.predict(X_test)\n",
        "y_predict\n",
        "\n"
      ],
      "execution_count": 8,
      "outputs": [
        {
          "output_type": "execute_result",
          "data": {
            "text/plain": [
              "array([35.306, 32.374, 33.833, 33.968, 43.976, 42.142, 39.224, 37.003,\n",
              "       30.447, 42.757, 39.706, 28.118, 38.06 , 41.071, 34.53 , 31.958,\n",
              "       32.506, 31.958, 42.757, 32.748, 43.855, 35.183, 35.426, 33.645,\n",
              "       42.435, 30.714, 42.141, 34.689, 36.12 , 34.757, 41.513, 43.507,\n",
              "       43.187, 34.757, 35.96 , 34.757, 43.226, 42.757, 40.268, 43.373,\n",
              "       36.857, 30.447])"
            ]
          },
          "metadata": {
            "tags": []
          },
          "execution_count": 8
        }
      ]
    },
    {
      "cell_type": "code",
      "metadata": {
        "id": "e-LPL6P4qFDz",
        "colab": {
          "base_uri": "https://localhost:8080/"
        },
        "outputId": "1994a09e-cf03-48f2-dc7c-a0a2249c7956"
      },
      "source": [
        "y_test"
      ],
      "execution_count": 9,
      "outputs": [
        {
          "output_type": "execute_result",
          "data": {
            "text/plain": [
              "array([26.42, 33.38, 38.46, 34.45, 48.77, 36.19, 32.84, 38.19, 31.77,\n",
              "       41.14, 35.52, 17.19, 37.39, 32.71, 33.51, 30.97, 33.78, 35.39,\n",
              "       45.69, 30.43, 38.46, 32.44, 26.82, 27.89, 41.27, 29.63, 49.97,\n",
              "       35.52, 34.99, 41.81, 42.08, 38.59, 44.08, 41.14, 43.54, 42.08,\n",
              "       58.53, 45.82, 39.93, 52.65, 38.86, 18.26])"
            ]
          },
          "metadata": {
            "tags": []
          },
          "execution_count": 9
        }
      ]
    },
    {
      "cell_type": "markdown",
      "metadata": {
        "id": "jkn0OnffqVay"
      },
      "source": [
        "Menampilkan Mean square Error "
      ]
    },
    {
      "cell_type": "code",
      "metadata": {
        "id": "zez6rnu-p-7a",
        "colab": {
          "base_uri": "https://localhost:8080/"
        },
        "outputId": "02c49d31-fc3b-4c55-f4a3-e091f1578652"
      },
      "source": [
        "print (\"The MSE is:\",format(np.power(y_test-y_predict,2).mean()))"
      ],
      "execution_count": 10,
      "outputs": [
        {
          "output_type": "stream",
          "text": [
            "The MSE is: 32.429148428571445\n"
          ],
          "name": "stdout"
        }
      ]
    }
  ]
}